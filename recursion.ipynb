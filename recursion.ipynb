{
 "cells": [
  {
   "cell_type": "markdown",
   "id": "developmental-shadow",
   "metadata": {},
   "source": [
    "# <center>  Count from 1 to n / n to 1</center>"
   ]
  },
  {
   "cell_type": "code",
   "execution_count": 25,
   "id": "previous-index",
   "metadata": {},
   "outputs": [
    {
     "name": "stdout",
     "output_type": "stream",
     "text": [
      "10\n",
      "9\n",
      "8\n",
      "7\n",
      "6\n",
      "5\n",
      "4\n",
      "3\n",
      "2\n",
      "1\n"
     ]
    }
   ],
   "source": [
    "def Print(n):\n",
    "    if n == 1:\n",
    "        print(1)\n",
    "        return\n",
    "    print(n)\n",
    "    Print(n-1)\n",
    "    \n",
    "           \n",
    "Print(10)"
   ]
  },
  {
   "cell_type": "raw",
   "id": "meaningful-translator",
   "metadata": {},
   "source": []
  },
  {
   "cell_type": "raw",
   "id": "controlling-tissue",
   "metadata": {},
   "source": []
  },
  {
   "cell_type": "markdown",
   "id": "helpful-camel",
   "metadata": {},
   "source": [
    "# <center>  Height of Binary Tree</center>"
   ]
  },
  {
   "cell_type": "code",
   "execution_count": 26,
   "id": "specialized-preliminary",
   "metadata": {},
   "outputs": [],
   "source": [
    "class Node():\n",
    "    def __init__(self, val):\n",
    "        self.val = val\n",
    "        self.left = None\n",
    "        self.right = None"
   ]
  },
  {
   "cell_type": "code",
   "execution_count": 27,
   "id": "continuous-lesbian",
   "metadata": {},
   "outputs": [],
   "source": [
    "root = Node(1)\n",
    "root.left = Node(2)\n",
    "root.right = Node(3)\n",
    "root.left.left = Node(4)\n",
    "root.left.right = Node(5)\n",
    "root.right.left = Node(6)\n",
    "root.right.right = Node(7)\n",
    "root.left.left.left = Node(8)\n",
    "root.left.left.right = Node(9)"
   ]
  },
  {
   "cell_type": "code",
   "execution_count": 28,
   "id": "literary-taxation",
   "metadata": {},
   "outputs": [
    {
     "name": "stdout",
     "output_type": "stream",
     "text": [
      "4\n"
     ]
    }
   ],
   "source": [
    "def height(root):\n",
    "    if root == None:\n",
    "        return 0\n",
    "    left = height(root.left)\n",
    "    right = height(root.right)\n",
    "    return 1 + max(left, right)\n",
    "print(height(root))"
   ]
  },
  {
   "cell_type": "code",
   "execution_count": null,
   "id": "imported-sullivan",
   "metadata": {},
   "outputs": [],
   "source": []
  },
  {
   "cell_type": "code",
   "execution_count": null,
   "id": "following-advice",
   "metadata": {},
   "outputs": [],
   "source": []
  },
  {
   "cell_type": "markdown",
   "id": "contemporary-arbitration",
   "metadata": {},
   "source": [
    "# <center> Sort an Array</center>"
   ]
  },
  {
   "cell_type": "code",
   "execution_count": 29,
   "id": "essential-isolation",
   "metadata": {},
   "outputs": [],
   "source": [
    "arr = [2, 3, 7, 6, 4, 5, 9]\n",
    "def inserting(arr, val):\n",
    "    for i in range(len(arr)):\n",
    "        if val < arr[i]:\n",
    "            arr.insert(i, val)\n",
    "            return\n",
    "    arr.append(val)"
   ]
  },
  {
   "cell_type": "code",
   "execution_count": 30,
   "id": "patient-folks",
   "metadata": {},
   "outputs": [
    {
     "name": "stdout",
     "output_type": "stream",
     "text": [
      "[2, 3, 4, 5, 6, 7, 9]\n"
     ]
    }
   ],
   "source": [
    "def sorting(arr):\n",
    "    if len(arr) == 1:\n",
    "        return\n",
    "    last = arr.pop()\n",
    "    sorting(arr)\n",
    "    inserting(arr, last)\n",
    "sorting(arr)\n",
    "print(arr)"
   ]
  },
  {
   "cell_type": "code",
   "execution_count": 31,
   "id": "fresh-buying",
   "metadata": {},
   "outputs": [
    {
     "name": "stdout",
     "output_type": "stream",
     "text": [
      "[0, 4, 5, 8]\n"
     ]
    }
   ],
   "source": [
    "a = [0, 4, 8]\n",
    "inserting(a, 5)\n",
    "print(a)"
   ]
  },
  {
   "cell_type": "code",
   "execution_count": null,
   "id": "unlike-lewis",
   "metadata": {},
   "outputs": [],
   "source": [
    " "
   ]
  },
  {
   "cell_type": "code",
   "execution_count": null,
   "id": "useful-pasta",
   "metadata": {},
   "outputs": [],
   "source": []
  },
  {
   "cell_type": "markdown",
   "id": "typical-perfume",
   "metadata": {},
   "source": [
    "# <center> Sort an Stack</center>"
   ]
  },
  {
   "cell_type": "code",
   "execution_count": 32,
   "id": "driving-europe",
   "metadata": {},
   "outputs": [],
   "source": [
    "def inserting(stack, val):\n",
    "    temp = []\n",
    "    while len(stack):\n",
    "        if val < stack[-1]:\n",
    "            temp.append(stack.pop())\n",
    "        else:\n",
    "            stack.append(val)\n",
    "            break\n",
    "    if len(stack) == 0:\n",
    "        stack.append(val)\n",
    "    for i in range(len(temp)):\n",
    "        stack.append(temp[-i-1])"
   ]
  },
  {
   "cell_type": "code",
   "execution_count": 33,
   "id": "ideal-korea",
   "metadata": {},
   "outputs": [
    {
     "name": "stdout",
     "output_type": "stream",
     "text": [
      "[1, 2, 3, 5, 100]\n"
     ]
    }
   ],
   "source": [
    "stack = [ 5, 100,  2, 3, 1]\n",
    "def sorting(stack):\n",
    "    if len(stack) == 1:\n",
    "        return\n",
    "    top = stack.pop()\n",
    "    sorting(stack)\n",
    "    inserting(stack, top)\n",
    "sorting(stack)\n",
    "print(stack)"
   ]
  },
  {
   "cell_type": "code",
   "execution_count": null,
   "id": "iraqi-perspective",
   "metadata": {},
   "outputs": [],
   "source": []
  },
  {
   "cell_type": "code",
   "execution_count": null,
   "id": "acting-shuttle",
   "metadata": {},
   "outputs": [],
   "source": []
  },
  {
   "cell_type": "markdown",
   "id": "duplicate-coverage",
   "metadata": {},
   "source": [
    "# <center> Delete middle element of a stack</center>"
   ]
  },
  {
   "cell_type": "code",
   "execution_count": 34,
   "id": "actual-edmonton",
   "metadata": {},
   "outputs": [
    {
     "name": "stdout",
     "output_type": "stream",
     "text": [
      "[5, 11, 10, 3, 1]\n"
     ]
    }
   ],
   "source": [
    "stack = [ 5, 11,  2, 10, 3, 1]\n",
    "def solve(stack, k):\n",
    "    if k == 1:\n",
    "        stack.pop()\n",
    "        return\n",
    "    temp = stack.pop()\n",
    "    solve(stack, k-1)\n",
    "    stack.append(temp)\n",
    "solve(stack, len(stack)//2 + 1)\n",
    "print(stack)"
   ]
  },
  {
   "cell_type": "code",
   "execution_count": null,
   "id": "confirmed-maker",
   "metadata": {},
   "outputs": [],
   "source": []
  },
  {
   "cell_type": "code",
   "execution_count": null,
   "id": "scientific-repair",
   "metadata": {},
   "outputs": [],
   "source": []
  },
  {
   "cell_type": "markdown",
   "id": "loved-consultation",
   "metadata": {},
   "source": [
    "# <center> Reverse a stack</center>"
   ]
  },
  {
   "cell_type": "code",
   "execution_count": 35,
   "id": "fourth-accent",
   "metadata": {},
   "outputs": [],
   "source": [
    "def insertfirst(stack, val):\n",
    "    if len(stack) == 0:\n",
    "        stack.append(val)\n",
    "        return\n",
    "    \n",
    "    temp = stack.pop()\n",
    "    insertfirst(stack, val)\n",
    "    stack.append(temp)"
   ]
  },
  {
   "cell_type": "code",
   "execution_count": 36,
   "id": "sweet-nepal",
   "metadata": {},
   "outputs": [
    {
     "name": "stdout",
     "output_type": "stream",
     "text": [
      "[1, 3, 10, 2, 11, 5]\n"
     ]
    }
   ],
   "source": [
    "def reverse(stack):\n",
    "    if len(stack) == 1:\n",
    "        return\n",
    "    temp = stack.pop()\n",
    "    reverse(stack)\n",
    "    insertfirst(stack, temp)\n",
    "\n",
    "stack = [ 5, 11,  2, 10, 3, 1]\n",
    "reverse(stack)\n",
    "print(stack)"
   ]
  },
  {
   "cell_type": "code",
   "execution_count": 37,
   "id": "forty-candy",
   "metadata": {},
   "outputs": [
    {
     "name": "stdout",
     "output_type": "stream",
     "text": [
      "[100, 5, 11, 2, 10, 3, 1]\n"
     ]
    }
   ],
   "source": [
    "stack = [ 5, 11,  2, 10, 3, 1]\n",
    "insertfirst(stack, 100)\n",
    "print(stack)"
   ]
  },
  {
   "cell_type": "code",
   "execution_count": null,
   "id": "following-fundamentals",
   "metadata": {},
   "outputs": [],
   "source": []
  },
  {
   "cell_type": "code",
   "execution_count": null,
   "id": "raised-raising",
   "metadata": {},
   "outputs": [],
   "source": []
  },
  {
   "cell_type": "markdown",
   "id": "collect-rolling",
   "metadata": {},
   "source": [
    "# <center> Kth Symbol in Grammer </center>"
   ]
  },
  {
   "cell_type": "code",
   "execution_count": 38,
   "id": "remarkable-champagne",
   "metadata": {},
   "outputs": [],
   "source": [
    "def solve(n, k):\n",
    "    if n == 1 and k == 1:\n",
    "        return 0\n",
    "    mid = (2 ** (n-1))/2\n",
    "    if k <= mid:\n",
    "        return solve(n - 1, k)\n",
    "    else:\n",
    "        return int(not solve(n-1, k - mid))"
   ]
  },
  {
   "cell_type": "code",
   "execution_count": 39,
   "id": "3ed8ea3c",
   "metadata": {},
   "outputs": [
    {
     "data": {
      "text/plain": [
       "1"
      ]
     },
     "execution_count": 39,
     "metadata": {},
     "output_type": "execute_result"
    }
   ],
   "source": [
    "solve(4, 8)"
   ]
  },
  {
   "cell_type": "code",
   "execution_count": null,
   "id": "22cb7a9d",
   "metadata": {},
   "outputs": [],
   "source": []
  },
  {
   "cell_type": "code",
   "execution_count": null,
   "id": "84ee207d",
   "metadata": {},
   "outputs": [],
   "source": []
  },
  {
   "cell_type": "markdown",
   "id": "c5052a47",
   "metadata": {},
   "source": [
    "# <center> Tower of Hanoi </center>"
   ]
  },
  {
   "cell_type": "code",
   "execution_count": 6,
   "id": "65e331da",
   "metadata": {},
   "outputs": [
    {
     "name": "stdout",
     "output_type": "stream",
     "text": [
      "S to D\n",
      "S to H\n",
      "D to H\n",
      "S to D\n",
      "H to S\n",
      "H to D\n",
      "S to D\n"
     ]
    }
   ],
   "source": [
    "def solve(n, S, D, H):\n",
    "    if n == 1:\n",
    "        print(f\"{S} to {D}\")\n",
    "        return\n",
    "    solve(n-1, S, H, D)\n",
    "    print(f\"{S} to {D}\")\n",
    "    solve(n-1, H, D, S,)\n",
    "solve(3, 'S', 'D', 'H')"
   ]
  },
  {
   "cell_type": "code",
   "execution_count": null,
   "id": "dcb1ad3d",
   "metadata": {},
   "outputs": [],
   "source": []
  },
  {
   "cell_type": "code",
   "execution_count": null,
   "id": "98d58cdf",
   "metadata": {},
   "outputs": [],
   "source": []
  },
  {
   "cell_type": "markdown",
   "id": "40bdf642",
   "metadata": {},
   "source": [
    "# <center style=\"color:#6223f7\"> Combination </center>"
   ]
  },
  {
   "cell_type": "code",
   "execution_count": 73,
   "id": "fb489ab9",
   "metadata": {},
   "outputs": [],
   "source": [
    "def combination(inp, out):\n",
    "    if inp == \"\":\n",
    "        print(out)\n",
    "        return\n",
    "    out2 = out\n",
    "    out2 += inp[0]\n",
    "    combination(inp.replace(inp[0], '', 1), out)\n",
    "    combination(inp.replace(inp[0], '', 1), out2)"
   ]
  },
  {
   "cell_type": "code",
   "execution_count": 74,
   "id": "04c4919c",
   "metadata": {},
   "outputs": [
    {
     "name": "stdout",
     "output_type": "stream",
     "text": [
      "\n",
      "c\n",
      "b\n",
      "bc\n",
      "a\n",
      "ac\n",
      "ab\n",
      "abc\n"
     ]
    }
   ],
   "source": [
    "combination('abc','')"
   ]
  },
  {
   "cell_type": "markdown",
   "id": "3177a966",
   "metadata": {},
   "source": [
    "# <center style=\"color:#6223f7\"> Print unique subsets and variations</center>\n"
   ]
  },
  {
   "cell_type": "code",
   "execution_count": 85,
   "id": "1bb49775",
   "metadata": {},
   "outputs": [],
   "source": [
    "def combination(inp, out, final):\n",
    "    if inp == \"\":\n",
    "        final.add(out)\n",
    "        return\n",
    "    out2 = out\n",
    "    out2 += inp[0]\n",
    "    combination(inp.replace(inp[0], '', 1), out, final)\n",
    "    combination(inp.replace(inp[0], '', 1), out2, final)\n",
    "    return final"
   ]
  },
  {
   "cell_type": "code",
   "execution_count": 90,
   "id": "95b6da7c",
   "metadata": {},
   "outputs": [
    {
     "name": "stdout",
     "output_type": "stream",
     "text": [
      "\n",
      "ab\n",
      "b\n",
      "aab\n",
      "aa\n",
      "a\n"
     ]
    }
   ],
   "source": [
    "a = combination('aab','', set())\n",
    "for i in a:\n",
    "    print(i)"
   ]
  },
  {
   "cell_type": "code",
   "execution_count": null,
   "id": "915ef06f",
   "metadata": {},
   "outputs": [],
   "source": []
  },
  {
   "cell_type": "code",
   "execution_count": null,
   "id": "bc18f6c7",
   "metadata": {},
   "outputs": [],
   "source": []
  },
  {
   "cell_type": "markdown",
   "id": "6e976c9e",
   "metadata": {},
   "source": [
    "# <center style=\"color:#6223f7\"> Permutation with spaces</center>"
   ]
  },
  {
   "cell_type": "code",
   "execution_count": 100,
   "id": "77ac47d7",
   "metadata": {},
   "outputs": [
    {
     "name": "stdout",
     "output_type": "stream",
     "text": [
      "abc\n",
      "a_b_c\n",
      "a_bc\n",
      "ab_c\n",
      "abc\n"
     ]
    }
   ],
   "source": [
    "def PWS(inp, out):\n",
    "    if inp == \"\":\n",
    "        print(out)\n",
    "        return\n",
    "    out1 = out\n",
    "    out2 = out\n",
    "    out1 += \"_\" + inp[0]\n",
    "    out2 += inp[0]\n",
    "    PWS(inp.replace(inp[0], ''), out1)\n",
    "    PWS(inp.replace(inp[0], ''), out2)\n",
    "inp = input()\n",
    "PWS(inp[1:], inp[0])"
   ]
  },
  {
   "cell_type": "code",
   "execution_count": null,
   "id": "5c6c482c",
   "metadata": {},
   "outputs": [],
   "source": []
  },
  {
   "cell_type": "code",
   "execution_count": null,
   "id": "7d929518",
   "metadata": {},
   "outputs": [],
   "source": []
  },
  {
   "cell_type": "markdown",
   "id": "b0776ab7",
   "metadata": {},
   "source": [
    "# <center style=\"color:#6223f7\"> Permutation with case change</center>"
   ]
  },
  {
   "cell_type": "code",
   "execution_count": 114,
   "id": "bff6e248",
   "metadata": {},
   "outputs": [
    {
     "name": "stdout",
     "output_type": "stream",
     "text": [
      "AB\n",
      "Ab\n",
      "aB\n",
      "ab\n"
     ]
    }
   ],
   "source": [
    "def PWCC(inp, out):\n",
    "    if inp == '':\n",
    "        print(out)\n",
    "        return\n",
    "    out1 = out\n",
    "    out1 += inp[0].upper()\n",
    "    PWCC(inp.replace(inp[0], ''), out1)\n",
    "    PWCC(inp.replace(inp[0], ''), out+inp[0])\n",
    "PWCC('ab', '')"
   ]
  },
  {
   "cell_type": "code",
   "execution_count": null,
   "id": "1b66fb89",
   "metadata": {},
   "outputs": [],
   "source": []
  },
  {
   "cell_type": "code",
   "execution_count": null,
   "id": "d4e600e6",
   "metadata": {},
   "outputs": [],
   "source": []
  },
  {
   "cell_type": "markdown",
   "id": "4916d08c",
   "metadata": {},
   "source": [
    "# <center style=\"color:#6223f7\"> Letter case permutation</center>"
   ]
  },
  {
   "cell_type": "code",
   "execution_count": 128,
   "id": "21d94660",
   "metadata": {},
   "outputs": [
    {
     "name": "stdout",
     "output_type": "stream",
     "text": [
      "a1b2\n",
      "a1B2\n",
      "A1b2\n",
      "A1B2\n"
     ]
    }
   ],
   "source": [
    "def LCP(inp, out):\n",
    "    if inp == '':\n",
    "        print(out)\n",
    "        return\n",
    "    if inp[0].isdigit():\n",
    "        LCP(inp.replace(inp[0], ''), out+inp[0])\n",
    "    else:\n",
    "        out1 = out\n",
    "        out2 = out\n",
    "        out1 += inp[0].lower()\n",
    "        out2 += inp[0].upper()\n",
    "        LCP(inp.replace(inp[0], ''), out1)\n",
    "        LCP(inp.replace(inp[0], ''), out2)\n",
    "LCP('a1b2', '')"
   ]
  },
  {
   "cell_type": "code",
   "execution_count": null,
   "id": "ca9ca688",
   "metadata": {},
   "outputs": [],
   "source": []
  },
  {
   "cell_type": "code",
   "execution_count": null,
   "id": "099d4486",
   "metadata": {},
   "outputs": [],
   "source": []
  },
  {
   "cell_type": "markdown",
   "id": "97833ac1",
   "metadata": {},
   "source": [
    "# <center style=\"color:#6223f7\">Generate all balanced parenthesis</center>"
   ]
  },
  {
   "cell_type": "code",
   "execution_count": 24,
   "id": "d8cf431e",
   "metadata": {},
   "outputs": [],
   "source": [
    "def generate(opn, cls, out) :\n",
    "    if cls == 0 and opn == 0:\n",
    "        print(out)\n",
    "        return\n",
    "    out1 = out\n",
    "    out2 = out\n",
    "    out1 += '('\n",
    "    out2 += ')'\n",
    "    if opn == 0:\n",
    "        generate(opn, cls-1, out2)\n",
    "    elif cls > opn:\n",
    "        generate(opn-1, cls, out1)\n",
    "        generate(opn, cls-1, out2)\n",
    "    else:\n",
    "        generate(opn-1, cls, out1)"
   ]
  },
  {
   "cell_type": "code",
   "execution_count": 25,
   "id": "ea5e63f5",
   "metadata": {},
   "outputs": [
    {
     "name": "stdout",
     "output_type": "stream",
     "text": [
      "()\n"
     ]
    }
   ],
   "source": [
    "generate(0, 1, '(')"
   ]
  },
  {
   "cell_type": "code",
   "execution_count": 28,
   "id": "4ffcfaf8",
   "metadata": {},
   "outputs": [
    {
     "name": "stdout",
     "output_type": "stream",
     "text": [
      "['()']\n"
     ]
    }
   ],
   "source": [
    "def generate(opn, cls, out, final) :\n",
    "    if cls == 0 and opn == 0:\n",
    "        final.append(out)\n",
    "        return\n",
    "    out1 = out\n",
    "    out2 = out\n",
    "    out1 += '('\n",
    "    out2 += ')'\n",
    "    if opn == 0:\n",
    "        generate(opn, cls-1, out2, final)\n",
    "    elif cls > opn:\n",
    "        generate(opn-1, cls, out1, final)\n",
    "        generate(opn, cls-1, out2, final)\n",
    "    else:\n",
    "        generate(opn-1, cls, out1, final)\n",
    "    return final\n",
    "ans = generate(0, 1, '(', [])\n",
    "print(ans)"
   ]
  },
  {
   "cell_type": "code",
   "execution_count": null,
   "id": "96224853",
   "metadata": {},
   "outputs": [],
   "source": []
  },
  {
   "cell_type": "code",
   "execution_count": null,
   "id": "5f529337",
   "metadata": {},
   "outputs": [],
   "source": []
  },
  {
   "cell_type": "markdown",
   "id": "2b988192",
   "metadata": {},
   "source": [
    "# <center style=\"color:#6223f7\"> Print N-bit binary having more 1's than 0's for any prefix</center>"
   ]
  },
  {
   "cell_type": "code",
   "execution_count": null,
   "id": "bcbc222c",
   "metadata": {},
   "outputs": [],
   "source": []
  }
 ],
 "metadata": {
  "kernelspec": {
   "display_name": "Python 3",
   "language": "python",
   "name": "python3"
  },
  "language_info": {
   "codemirror_mode": {
    "name": "ipython",
    "version": 3
   },
   "file_extension": ".py",
   "mimetype": "text/x-python",
   "name": "python",
   "nbconvert_exporter": "python",
   "pygments_lexer": "ipython3",
   "version": "3.8.8"
  }
 },
 "nbformat": 4,
 "nbformat_minor": 5
}
